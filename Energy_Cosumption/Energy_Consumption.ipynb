{
 "cells": [
  {
   "cell_type": "markdown",
   "id": "0c383bfb",
   "metadata": {},
   "source": [
    "**PJM Hourly Energy Consumption Data**\n",
    "\n",
    "PJM Interconnection LLC (PJM) is a regional transmission organization (RTO) in the United States. It is part of the Eastern Interconnection grid operating an electric transmission system serving all or parts of Delaware, Illinois, Indiana, Kentucky, Maryland, Michigan, New Jersey, North Carolina, Ohio, Pennsylvania, Tennessee, Virginia, West Virginia, and the District of Columbia.\n",
    "\n",
    "The hourly power consumption data comes from PJM's website and are in megawatts (MW).\n",
    "\n",
    "The regions have changed over the years so data may only appear for certain dates per region."
   ]
  },
  {
   "cell_type": "markdown",
   "id": "e7d5149e",
   "metadata": {},
   "source": [
    "**Ideas of what you could do with this dataset:**<br>\n",
    "1. Split the last year into a test set- can you build a model to predict energy consumption?\n",
    "2. Find trends in energy consumption around hours of the day, holidays, or long term trends?\n",
    "3. Understand how daily trends change depending of the time of year. Summer trends are very different than winter trends."
   ]
  },
  {
   "cell_type": "code",
   "execution_count": 1,
   "id": "f466b894",
   "metadata": {},
   "outputs": [],
   "source": [
    "# Import libraries\n",
    "import pandas as pd\n",
    "import numpy as np\n",
    "import matplotlib as plt\n",
    "import seaborn as sns\n",
    "import datetime\n",
    "\n",
    "# Ignore warnings\n",
    "import warnings\n",
    "warnings.filterwarnings(\"ignore\")"
   ]
  },
  {
   "cell_type": "markdown",
   "id": "2fe3cc64",
   "metadata": {},
   "source": [
    "**Note:** Need to practice compiling all excel spreadsheets into one"
   ]
  },
  {
   "cell_type": "code",
   "execution_count": 2,
   "id": "c02dac76",
   "metadata": {},
   "outputs": [
    {
     "data": {
      "text/html": [
       "<div>\n",
       "<style scoped>\n",
       "    .dataframe tbody tr th:only-of-type {\n",
       "        vertical-align: middle;\n",
       "    }\n",
       "\n",
       "    .dataframe tbody tr th {\n",
       "        vertical-align: top;\n",
       "    }\n",
       "\n",
       "    .dataframe thead th {\n",
       "        text-align: right;\n",
       "    }\n",
       "</style>\n",
       "<table border=\"1\" class=\"dataframe\">\n",
       "  <thead>\n",
       "    <tr style=\"text-align: right;\">\n",
       "      <th></th>\n",
       "      <th>Datetime</th>\n",
       "      <th>AEP</th>\n",
       "      <th>COMED</th>\n",
       "      <th>DAYTON</th>\n",
       "      <th>DEOK</th>\n",
       "      <th>DOM</th>\n",
       "      <th>DUQ</th>\n",
       "      <th>EKPC</th>\n",
       "      <th>FE</th>\n",
       "      <th>NI</th>\n",
       "      <th>PJME</th>\n",
       "      <th>PJMW</th>\n",
       "      <th>PJM_Load</th>\n",
       "    </tr>\n",
       "  </thead>\n",
       "  <tbody>\n",
       "    <tr>\n",
       "      <th>0</th>\n",
       "      <td>1998-12-31 01:00:00</td>\n",
       "      <td>NaN</td>\n",
       "      <td>NaN</td>\n",
       "      <td>NaN</td>\n",
       "      <td>NaN</td>\n",
       "      <td>NaN</td>\n",
       "      <td>NaN</td>\n",
       "      <td>NaN</td>\n",
       "      <td>NaN</td>\n",
       "      <td>NaN</td>\n",
       "      <td>NaN</td>\n",
       "      <td>NaN</td>\n",
       "      <td>29309.0</td>\n",
       "    </tr>\n",
       "    <tr>\n",
       "      <th>1</th>\n",
       "      <td>1998-12-31 02:00:00</td>\n",
       "      <td>NaN</td>\n",
       "      <td>NaN</td>\n",
       "      <td>NaN</td>\n",
       "      <td>NaN</td>\n",
       "      <td>NaN</td>\n",
       "      <td>NaN</td>\n",
       "      <td>NaN</td>\n",
       "      <td>NaN</td>\n",
       "      <td>NaN</td>\n",
       "      <td>NaN</td>\n",
       "      <td>NaN</td>\n",
       "      <td>28236.0</td>\n",
       "    </tr>\n",
       "    <tr>\n",
       "      <th>2</th>\n",
       "      <td>1998-12-31 03:00:00</td>\n",
       "      <td>NaN</td>\n",
       "      <td>NaN</td>\n",
       "      <td>NaN</td>\n",
       "      <td>NaN</td>\n",
       "      <td>NaN</td>\n",
       "      <td>NaN</td>\n",
       "      <td>NaN</td>\n",
       "      <td>NaN</td>\n",
       "      <td>NaN</td>\n",
       "      <td>NaN</td>\n",
       "      <td>NaN</td>\n",
       "      <td>27692.0</td>\n",
       "    </tr>\n",
       "    <tr>\n",
       "      <th>3</th>\n",
       "      <td>1998-12-31 04:00:00</td>\n",
       "      <td>NaN</td>\n",
       "      <td>NaN</td>\n",
       "      <td>NaN</td>\n",
       "      <td>NaN</td>\n",
       "      <td>NaN</td>\n",
       "      <td>NaN</td>\n",
       "      <td>NaN</td>\n",
       "      <td>NaN</td>\n",
       "      <td>NaN</td>\n",
       "      <td>NaN</td>\n",
       "      <td>NaN</td>\n",
       "      <td>27596.0</td>\n",
       "    </tr>\n",
       "    <tr>\n",
       "      <th>4</th>\n",
       "      <td>1998-12-31 05:00:00</td>\n",
       "      <td>NaN</td>\n",
       "      <td>NaN</td>\n",
       "      <td>NaN</td>\n",
       "      <td>NaN</td>\n",
       "      <td>NaN</td>\n",
       "      <td>NaN</td>\n",
       "      <td>NaN</td>\n",
       "      <td>NaN</td>\n",
       "      <td>NaN</td>\n",
       "      <td>NaN</td>\n",
       "      <td>NaN</td>\n",
       "      <td>27888.0</td>\n",
       "    </tr>\n",
       "  </tbody>\n",
       "</table>\n",
       "</div>"
      ],
      "text/plain": [
       "              Datetime  AEP  COMED  DAYTON  DEOK  DOM  DUQ  EKPC  FE  NI  \\\n",
       "0  1998-12-31 01:00:00  NaN    NaN     NaN   NaN  NaN  NaN   NaN NaN NaN   \n",
       "1  1998-12-31 02:00:00  NaN    NaN     NaN   NaN  NaN  NaN   NaN NaN NaN   \n",
       "2  1998-12-31 03:00:00  NaN    NaN     NaN   NaN  NaN  NaN   NaN NaN NaN   \n",
       "3  1998-12-31 04:00:00  NaN    NaN     NaN   NaN  NaN  NaN   NaN NaN NaN   \n",
       "4  1998-12-31 05:00:00  NaN    NaN     NaN   NaN  NaN  NaN   NaN NaN NaN   \n",
       "\n",
       "   PJME  PJMW  PJM_Load  \n",
       "0   NaN   NaN   29309.0  \n",
       "1   NaN   NaN   28236.0  \n",
       "2   NaN   NaN   27692.0  \n",
       "3   NaN   NaN   27596.0  \n",
       "4   NaN   NaN   27888.0  "
      ]
     },
     "execution_count": 2,
     "metadata": {},
     "output_type": "execute_result"
    }
   ],
   "source": [
    "# Load dataset\n",
    "df = pd.read_csv('./archive/pjm_hourly_est.csv')\n",
    "df.head()"
   ]
  },
  {
   "cell_type": "code",
   "execution_count": 3,
   "id": "713ca485",
   "metadata": {},
   "outputs": [
    {
     "name": "stdout",
     "output_type": "stream",
     "text": [
      "<class 'pandas.core.frame.DataFrame'>\n",
      "RangeIndex: 178262 entries, 0 to 178261\n",
      "Data columns (total 13 columns):\n",
      " #   Column    Non-Null Count   Dtype  \n",
      "---  ------    --------------   -----  \n",
      " 0   Datetime  178262 non-null  object \n",
      " 1   AEP       121273 non-null  float64\n",
      " 2   COMED     66497 non-null   float64\n",
      " 3   DAYTON    121275 non-null  float64\n",
      " 4   DEOK      57739 non-null   float64\n",
      " 5   DOM       116189 non-null  float64\n",
      " 6   DUQ       119068 non-null  float64\n",
      " 7   EKPC      45334 non-null   float64\n",
      " 8   FE        62874 non-null   float64\n",
      " 9   NI        58450 non-null   float64\n",
      " 10  PJME      145366 non-null  float64\n",
      " 11  PJMW      143206 non-null  float64\n",
      " 12  PJM_Load  32896 non-null   float64\n",
      "dtypes: float64(12), object(1)\n",
      "memory usage: 17.7+ MB\n"
     ]
    }
   ],
   "source": [
    "# Check Datatype for all columns\n",
    "df.info()"
   ]
  },
  {
   "cell_type": "markdown",
   "id": "a5124fe1",
   "metadata": {},
   "source": [
    "**Columns**\n",
    "1. AEP: American Electric Power\n",
    "2.  COMED: Commonwealth Edison\n",
    "3.  DAYTON: The Dayton Power and Light Company\n",
    "4.  DEOK: Duke Energy Ohio/Kentucky\n",
    "5.  DOM: Dominion Virginia Power\n",
    "6.  DUQ: Duquesne Light Co.\n",
    "7.  EKPC: East Kentucky Power Cooperative\n",
    "8.  FE: FirstEnergy\n",
    "9.  NI: Northern Illinois Hub\n",
    "10. PJME: PJM East Region\n",
    "11. PJMW: PJM West Region\n",
    "12. PJM Load Combined"
   ]
  },
  {
   "cell_type": "code",
   "execution_count": 4,
   "id": "d2c263a3",
   "metadata": {},
   "outputs": [
    {
     "name": "stdout",
     "output_type": "stream",
     "text": [
      "<class 'pandas.core.frame.DataFrame'>\n",
      "RangeIndex: 178262 entries, 0 to 178261\n",
      "Data columns (total 13 columns):\n",
      " #   Column    Non-Null Count   Dtype         \n",
      "---  ------    --------------   -----         \n",
      " 0   Datetime  178262 non-null  datetime64[ns]\n",
      " 1   AEP       121273 non-null  float64       \n",
      " 2   COMED     66497 non-null   float64       \n",
      " 3   DAYTON    121275 non-null  float64       \n",
      " 4   DEOK      57739 non-null   float64       \n",
      " 5   DOM       116189 non-null  float64       \n",
      " 6   DUQ       119068 non-null  float64       \n",
      " 7   EKPC      45334 non-null   float64       \n",
      " 8   FE        62874 non-null   float64       \n",
      " 9   NI        58450 non-null   float64       \n",
      " 10  PJME      145366 non-null  float64       \n",
      " 11  PJMW      143206 non-null  float64       \n",
      " 12  PJM_Load  32896 non-null   float64       \n",
      "dtypes: datetime64[ns](1), float64(12)\n",
      "memory usage: 17.7 MB\n"
     ]
    }
   ],
   "source": [
    "# Set Datetime as Idndex\n",
    "df['Datetime'] = pd.to_datetime(df['Datetime'])\n",
    "df = df.set_index('Datetime')\n",
    "df.info()"
   ]
  },
  {
   "cell_type": "code",
   "execution_count": 10,
   "id": "0d836044",
   "metadata": {},
   "outputs": [
    {
     "data": {
      "text/plain": [
       "<Axes: xlabel='Datetime', ylabel='AEP'>"
      ]
     },
     "execution_count": 10,
     "metadata": {},
     "output_type": "execute_result"
    },
    {
     "data": {
      "image/png": "[encoded data removed]",
      "text/plain": [
       "<Figure size 640x480 with 1 Axes>"
      ]
     },
     "metadata": {},
     "output_type": "display_data"
    }
   ],
   "source": [
    "sns.lineplot(x = 'Datetime', y = 'AEP', data = df, label = 'AEP Column')"
   ]
  },
  {
   "cell_type": "code",
   "execution_count": 26,
   "id": "5c2b8283",
   "metadata": {},
   "outputs": [
    {
     "ename": "TypeError",
     "evalue": "'module' object is not callable",
     "output_type": "error",
     "traceback": [
      "\u001b[0;31m---------------------------------------------------------------------------\u001b[0m",
      "\u001b[0;31mTypeError\u001b[0m                                 Traceback (most recent call last)",
      "Cell \u001b[0;32mIn[26], line 5\u001b[0m\n\u001b[1;32m      2\u001b[0m sns\u001b[38;5;241m.\u001b[39mset()\n\u001b[1;32m      4\u001b[0m \u001b[38;5;28;01mfor\u001b[39;00m column \u001b[38;5;129;01min\u001b[39;00m df\u001b[38;5;241m.\u001b[39mcolumns:\n\u001b[0;32m----> 5\u001b[0m     plt\u001b[38;5;241m.\u001b[39mfigure()\n\u001b[1;32m      6\u001b[0m     sns\u001b[38;5;241m.\u001b[39mlineplot(x \u001b[38;5;241m=\u001b[39m \u001b[38;5;124m'\u001b[39m\u001b[38;5;124mDatetime\u001b[39m\u001b[38;5;124m'\u001b[39m, y \u001b[38;5;241m=\u001b[39m column, data \u001b[38;5;241m=\u001b[39m df, label \u001b[38;5;241m=\u001b[39m column)\n",
      "\u001b[0;31mTypeError\u001b[0m: 'module' object is not callable"
     ]
    }
   ],
   "source": [
    "column_list = df.columns.tolist()\n",
    "sns.set()\n",
    "\n",
    "for column in df.columns:\n",
    "    plt.figure()\n",
    "    sns.lineplot(x = 'Datetime', y = column, data = df, label = column)"
   ]
  },
  {
   "cell_type": "code",
   "execution_count": null,
   "id": "2b30899e",
   "metadata": {},
   "outputs": [],
   "source": []
  }
 ],
 "metadata": {
  "kernelspec": {
   "display_name": "Python 3 (ipykernel)",
   "language": "python",
   "name": "python3"
  },
  "language_info": {
   "codemirror_mode": {
    "name": "ipython",
    "version": 3
   },
   "file_extension": ".py",
   "mimetype": "text/x-python",
   "name": "python",
   "nbconvert_exporter": "python",
   "pygments_lexer": "ipython3",
   "version": "3.11.5"
  }
 },
 "nbformat": 4,
 "nbformat_minor": 5
}
